{
 "cells": [
  {
   "cell_type": "code",
   "execution_count": null,
   "metadata": {},
   "outputs": [],
   "source": [
    "%%bash\n",
    "git init\n",
    "git branch -m master main\n",
    "\n",
    "git add .gitignore && git commit -m \"update ignored files\"\n",
    "git add . && git commit -m 'Reorganize repository.'\n",
    "\n",
    "git rm -r --cached code/__pycache__\n",
    "git rm -r --cached code/scripts/__pycache__\n",
    "git add .gitignore && git commit -m \"update ignored files\"\n",
    "git add . && git commit -m 'Delete __pycache_.'"
   ]
  }
 ],
 "metadata": {
  "language_info": {
   "name": "python"
  }
 },
 "nbformat": 4,
 "nbformat_minor": 2
}
