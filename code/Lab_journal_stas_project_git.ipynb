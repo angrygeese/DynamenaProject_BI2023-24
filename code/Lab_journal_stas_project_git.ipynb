{
 "cells": [
  {
   "cell_type": "code",
   "execution_count": null,
   "metadata": {},
   "outputs": [],
   "source": [
    "%%bash\n",
    "git init\n",
    "git branch -m master main\n",
    "\n",
    "git add .gitignore && git commit -m \"update ignored files\"\n",
    "git add . && git commit -m 'Reorganize repository.'\n",
    "\n",
    "# https://www.freecodecamp.org/news/gitignore-file-how-to-ignore-files-and-folders-in-git/\n",
    "git rm -r --cached code/__pycache__\n",
    "git rm -r --cached code/scripts/__pycache__\n",
    "git add .gitignore && git commit -m \"update ignored files\"\n",
    "git add . && git commit -m 'Delete __pycache_.'\n",
    "\n",
    "# https://docs.github.com/en/migrations/importing-source-code/using-the-command-line-to-import-source-code/adding-locally-hosted-code-to-github\n",
    "git remote add origin git@github.com:angrygeese/DynamenaProject_BI2023-24.git\n",
    "git remote -v\n",
    "git push origin main\n",
    "\n",
    "git add . && git commit -m 'Delete d.e.a. w/o control gene from lab journal, update kegg ontology search for tanscripts'\n",
    "git push origin main\n",
    "\n",
    "git rm -r --cached code/scripts/python/__pycache__\n",
    "git add .gitignore && git commit -m \"update ignored files\"\n",
    "git add . && git commit -m 'Delete __pycache_.'\n",
    "\n",
    "git add . && git commit -m 'Update lab journal'\n",
    "git push origin main\n",
    "\n",
    "git add . && git commit -m 'Update lab journal, delete unnecessary files'\n",
    "git push origin main"
   ]
  }
 ],
 "metadata": {
  "language_info": {
   "name": "python"
  }
 },
 "nbformat": 4,
 "nbformat_minor": 2
}
